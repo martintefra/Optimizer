{
 "cells": [
  {
   "cell_type": "code",
   "execution_count": null,
   "metadata": {},
   "outputs": [],
   "source": [
    "from torch.optim import Adam\n",
    "\n",
    "\n",
    "# create a simple model\n",
    "model = \n",
    "\n",
    "optim = Adam(\n",
    "    [\n",
    "        {\"params\": model.fc.parameters(), \"lr\": 1e-3},\n",
    "        {\"params\": model.agroupoflayer.parameters()},\n",
    "        {\"params\": model.lastlayer.parameters(), \"lr\": 4e-2},\n",
    "    ],\n",
    "    lr=5e-4,\n",
    ")"
   ]
  }
 ],
 "metadata": {
  "kernelspec": {
   "display_name": "Python 3",
   "language": "python",
   "name": "python3"
  },
  "language_info": {
   "name": "python",
   "version": "3.10.14"
  }
 },
 "nbformat": 4,
 "nbformat_minor": 2
}
