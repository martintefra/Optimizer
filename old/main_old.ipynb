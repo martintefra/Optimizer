{
 "cells": [
  {
   "cell_type": "code",
   "execution_count": 17,
   "metadata": {},
   "outputs": [],
   "source": [
    "%reload_ext autoreload\n",
    "%autoreload 2\n",
    "\n",
    "import torch\n",
    "import torch.nn as nn\n",
    "from torchvision import datasets\n",
    "from torchvision.transforms import ToTensor\n",
    "from torch.utils.data import DataLoader\n",
    "\n",
    "from models import SimpleNN\n",
    "from utils import CustomDataset"
   ]
  },
  {
   "cell_type": "code",
   "execution_count": 18,
   "metadata": {},
   "outputs": [],
   "source": [
    "training_data = datasets.FashionMNIST(\n",
    "    root=\"data\",\n",
    "    train=True,\n",
    "    download=True,\n",
    "    transform=ToTensor()\n",
    ")\n",
    "\n",
    "test_data = datasets.FashionMNIST(\n",
    "    root=\"data\",\n",
    "    train=False,\n",
    "    download=True,\n",
    "    transform=ToTensor()\n",
    ")"
   ]
  },
  {
   "cell_type": "code",
   "execution_count": 21,
   "metadata": {},
   "outputs": [
    {
     "name": "stdout",
     "output_type": "stream",
     "text": [
      "Files already downloaded and verified\n",
      "Files already downloaded and verified\n"
     ]
    }
   ],
   "source": [
    "directory = \"datasets\"\n",
    "\n",
    "### Adults dataset\n",
    "train_adults = CustomDataset(root=directory, train=True, dataset_name=\"adult\")\n",
    "test_adults = CustomDataset(root=directory, train=False, dataset_name=\"adult\")\n",
    "# use data loader to load data in batches\n",
    "train_dataloader_adults = DataLoader(train_adults, batch_size=64, shuffle=True)\n",
    "test_dataloader_adults = DataLoader(test_adults, batch_size=64, shuffle=True)\n",
    "\n",
    "### IMDB dataset\n",
    "train_imdb = CustomDataset(root=directory, train=True, dataset_name=\"imdb\")\n",
    "test_imdb = CustomDataset(root=directory, train=False, dataset_name=\"imdb\")\n",
    "# use data loader to load data in batches\n",
    "train_dataloader_imdb = DataLoader(train_imdb, batch_size=64, shuffle=True)\n",
    "test_dataloader_imdb = DataLoader(test_imdb, batch_size=64, shuffle=True)\n",
    "\n",
    "\n",
    "training_data_CIFAR = datasets.CIFAR100(\n",
    "    root=\"data\",\n",
    "    train=True,\n",
    "    download=True,\n",
    "    transform=ToTensor()\n",
    ")\n",
    "\n",
    "test_data_CIFAR = datasets.CIFAR100(\n",
    "    root=\"data\",\n",
    "    train=False,\n",
    "    download=True,\n",
    "    transform=ToTensor()\n",
    ")\n",
    "\n",
    "train_dataloader_CIFAR = DataLoader(training_data_CIFAR, batch_size=64, shuffle=True)\n",
    "test_dataloader_CIFAR = DataLoader(test_data_CIFAR, batch_size=64, shuffle=True)\n"
   ]
  },
  {
   "cell_type": "code",
   "execution_count": 23,
   "metadata": {},
   "outputs": [
    {
     "name": "stdout",
     "output_type": "stream",
     "text": [
      "Using mps device\n"
     ]
    },
    {
     "ename": "TypeError",
     "evalue": "__init__() missing 1 required positional argument: 'input_dim'",
     "output_type": "error",
     "traceback": [
      "\u001b[0;31m---------------------------------------------------------------------------\u001b[0m",
      "\u001b[0;31mTypeError\u001b[0m                                 Traceback (most recent call last)",
      "Cell \u001b[0;32mIn [23], line 7\u001b[0m\n\u001b[1;32m      5\u001b[0m \u001b[38;5;66;03m# define model\u001b[39;00m\n\u001b[1;32m      6\u001b[0m input_dim \u001b[38;5;241m=\u001b[39m \u001b[38;5;241m28\u001b[39m\u001b[38;5;241m*\u001b[39m\u001b[38;5;241m28\u001b[39m\n\u001b[0;32m----> 7\u001b[0m model \u001b[38;5;241m=\u001b[39m \u001b[43mSimpleNN\u001b[49m\u001b[43m(\u001b[49m\u001b[43m)\u001b[49m\u001b[38;5;241m.\u001b[39mto(device)\n",
      "\u001b[0;31mTypeError\u001b[0m: __init__() missing 1 required positional argument: 'input_dim'"
     ]
    }
   ],
   "source": [
    "# initialize device\n",
    "device = \"mps\" if torch.backends.mps.is_available() else \"cpu\"\n",
    "print(\"Using {} device\".format(device))\n",
    "\n",
    "# define model\n",
    "input_dim = 28*28\n",
    "model = SimpleNN().to(device)"
   ]
  }
 ],
 "metadata": {
  "kernelspec": {
   "display_name": "Python 3",
   "language": "python",
   "name": "python3"
  },
  "language_info": {
   "codemirror_mode": {
    "name": "ipython",
    "version": 3
   },
   "file_extension": ".py",
   "mimetype": "text/x-python",
   "name": "python",
   "nbconvert_exporter": "python",
   "pygments_lexer": "ipython3",
   "version": "3.9.6"
  }
 },
 "nbformat": 4,
 "nbformat_minor": 2
}
