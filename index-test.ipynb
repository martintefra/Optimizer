{
 "cells": [
  {
   "cell_type": "code",
   "execution_count": 1,
   "metadata": {},
   "outputs": [
    {
     "name": "stderr",
     "output_type": "stream",
     "text": [
      "/Users/teframartin/EPFL_Cours/MA4/OptiMlForever/.conda/lib/python3.10/site-packages/tqdm/auto.py:21: TqdmWarning: IProgress not found. Please update jupyter and ipywidgets. See https://ipywidgets.readthedocs.io/en/stable/user_install.html\n",
      "  from .autonotebook import tqdm as notebook_tqdm\n"
     ]
    }
   ],
   "source": [
    "import wandb\n",
    "import torch\n",
    "import torchvision\n",
    "import torchvision.transforms as transforms\n",
    "import matplotlib.pyplot as plt"
   ]
  },
  {
   "cell_type": "code",
   "execution_count": 2,
   "metadata": {},
   "outputs": [
    {
     "name": "stdout",
     "output_type": "stream",
     "text": [
      "Files already downloaded and verified\n",
      "Files already downloaded and verified\n"
     ]
    }
   ],
   "source": [
    "transform = transforms.Compose(\n",
    "    [transforms.ToTensor(),\n",
    "     transforms.Normalize((0.5, 0.5, 0.5), (0.5, 0.5, 0.5))])\n",
    "\n",
    "batch_size = 4\n",
    "\n",
    "trainset = torchvision.datasets.CIFAR10(root='./data', train=True,\n",
    "                                        download=True, transform=transform)\n",
    "trainloader = torch.utils.data.DataLoader(trainset, batch_size=batch_size,\n",
    "                                          shuffle=True, num_workers=2)\n",
    "\n",
    "testset = torchvision.datasets.CIFAR10(root='./data', train=False,\n",
    "                                       download=True, transform=transform)\n",
    "testloader = torch.utils.data.DataLoader(testset, batch_size=batch_size,\n",
    "                                         shuffle=False, num_workers=2)\n",
    "\n",
    "classes = ('plane', 'car', 'bird', 'cat',\n",
    "           'deer', 'dog', 'frog', 'horse', 'ship', 'truck')"
   ]
  },
  {
   "cell_type": "code",
   "execution_count": 3,
   "metadata": {},
   "outputs": [
    {
     "data": {
      "image/png": "[encoded data removed]",
      "text/plain": [
       "<Figure size 640x480 with 1 Axes>"
      ]
     },
     "metadata": {},
     "output_type": "display_data"
    },
    {
     "name": "stdout",
     "output_type": "stream",
     "text": [
      "dog   cat   frog  truck\n"
     ]
    }
   ],
   "source": [
    "import matplotlib.pyplot as plt\n",
    "import numpy as np\n",
    "\n",
    "# functions to show an image\n",
    "\n",
    "\n",
    "def imshow(img):\n",
    "    img = img / 2 + 0.5     # unnormalize\n",
    "    npimg = img.numpy()\n",
    "    plt.imshow(np.transpose(npimg, (1, 2, 0)))\n",
    "    plt.show()\n",
    "\n",
    "\n",
    "# get some random training images\n",
    "dataiter = iter(trainloader)\n",
    "images, labels = next(dataiter)\n",
    "\n",
    "# show images\n",
    "imshow(torchvision.utils.make_grid(images))\n",
    "# print labels\n",
    "print(' '.join(f'{classes[labels[j]]:5s}' for j in range(batch_size)))"
   ]
  },
  {
   "cell_type": "markdown",
   "metadata": {},
   "source": [
    "### wandb"
   ]
  },
  {
   "cell_type": "code",
   "execution_count": 4,
   "metadata": {},
   "outputs": [
    {
     "name": "stderr",
     "output_type": "stream",
     "text": [
      "Failed to detect the name of this notebook, you can set it manually with the WANDB_NOTEBOOK_NAME environment variable to enable code saving.\n"
     ]
    },
    {
     "name": "stderr",
     "output_type": "stream",
     "text": [
      "\u001b[34m\u001b[1mwandb\u001b[0m: Currently logged in as: \u001b[33mstupidmoewe\u001b[0m (\u001b[33mstupid-moewe\u001b[0m). Use \u001b[1m`wandb login --relogin`\u001b[0m to force relogin\n"
     ]
    },
    {
     "data": {
      "text/html": [
       "Tracking run with wandb version 0.17.0"
      ],
      "text/plain": [
       "<IPython.core.display.HTML object>"
      ]
     },
     "metadata": {},
     "output_type": "display_data"
    },
    {
     "data": {
      "text/html": [
       "Run data is saved locally in <code>/Users/teframartin/EPFL_Cours/MA4/OptiMlForever/wandb/run-20240531_215643-xj4fcuzk</code>"
      ],
      "text/plain": [
       "<IPython.core.display.HTML object>"
      ]
     },
     "metadata": {},
     "output_type": "display_data"
    },
    {
     "data": {
      "text/html": [
       "Syncing run <strong><a href='https://wandb.ai/stupid-moewe/optimization-for-ML/runs/xj4fcuzk' target=\"_blank\">sandy-sun-3</a></strong> to <a href='https://wandb.ai/stupid-moewe/optimization-for-ML' target=\"_blank\">Weights & Biases</a> (<a href='https://wandb.me/run' target=\"_blank\">docs</a>)<br/>"
      ],
      "text/plain": [
       "<IPython.core.display.HTML object>"
      ]
     },
     "metadata": {},
     "output_type": "display_data"
    },
    {
     "data": {
      "text/html": [
       " View project at <a href='https://wandb.ai/stupid-moewe/optimization-for-ML' target=\"_blank\">https://wandb.ai/stupid-moewe/optimization-for-ML</a>"
      ],
      "text/plain": [
       "<IPython.core.display.HTML object>"
      ]
     },
     "metadata": {},
     "output_type": "display_data"
    },
    {
     "data": {
      "text/html": [
       " View run at <a href='https://wandb.ai/stupid-moewe/optimization-for-ML/runs/xj4fcuzk' target=\"_blank\">https://wandb.ai/stupid-moewe/optimization-for-ML/runs/xj4fcuzk</a>"
      ],
      "text/plain": [
       "<IPython.core.display.HTML object>"
      ]
     },
     "metadata": {},
     "output_type": "display_data"
    },
    {
     "data": {
      "text/html": [
       "<button onClick=\"this.nextSibling.style.display='block';this.style.display='none';\">Display W&B run</button><iframe src='https://wandb.ai/stupid-moewe/optimization-for-ML/runs/xj4fcuzk?jupyter=true' style='border:none;width:100%;height:420px;display:none;'></iframe>"
      ],
      "text/plain": [
       "<wandb.sdk.wandb_run.Run at 0x14e94fe20>"
      ]
     },
     "execution_count": 4,
     "metadata": {},
     "output_type": "execute_result"
    }
   ],
   "source": [
    "wandb.init(project=\"optimization-for-ML\")"
   ]
  },
  {
   "cell_type": "markdown",
   "metadata": {},
   "source": [
    "# Training"
   ]
  },
  {
   "cell_type": "code",
   "execution_count": 5,
   "metadata": {},
   "outputs": [],
   "source": [
    "import torch.nn as nn\n",
    "import torch.nn.functional as F\n",
    "\n",
    "\n",
    "class Net(nn.Module):\n",
    "    def __init__(self):\n",
    "        super().__init__()\n",
    "        self.conv1 = nn.Conv2d(3, 6, 5)\n",
    "        self.pool = nn.MaxPool2d(2, 2)\n",
    "        self.conv2 = nn.Conv2d(6, 16, 5)\n",
    "        self.fc1 = nn.Linear(16 * 5 * 5, 120)\n",
    "        self.fc2 = nn.Linear(120, 84)\n",
    "        self.fc3 = nn.Linear(84, 10)\n",
    "\n",
    "    def forward(self, x):\n",
    "        x = self.pool(F.relu(self.conv1(x)))\n",
    "        x = self.pool(F.relu(self.conv2(x)))\n",
    "        x = torch.flatten(x, 1) # flatten all dimensions except batch\n",
    "        x = F.relu(self.fc1(x))\n",
    "        x = F.relu(self.fc2(x))\n",
    "        x = self.fc3(x)\n",
    "        return x"
   ]
  },
  {
   "cell_type": "code",
   "execution_count": 6,
   "metadata": {},
   "outputs": [],
   "source": [
    "def train(net, trainloader, criterion, optimizer, epochs=2, device='cpu'):\n",
    "    losses = []\n",
    "    for epoch in range(epochs):  # loop over the dataset multiple times\n",
    "\n",
    "        running_loss = 0.0\n",
    "        for i, data in enumerate(trainloader, 0):\n",
    "            # get the inputs; data is a list of [inputs, labels]\n",
    "            inputs, labels = data\n",
    "            inputs, labels = inputs.to(device), labels.to(device)\n",
    "\n",
    "            # zero the parameter gradients\n",
    "            optimizer.zero_grad()\n",
    "\n",
    "            # forward + backward + optimize\n",
    "            outputs = net(inputs)\n",
    "            loss = criterion(outputs, labels)\n",
    "            losses.append(loss.item())\n",
    "            loss.backward()\n",
    "            optimizer.step()\n",
    "\n",
    "            # Log loss and learning rate\n",
    "            wandb.log({\"loss\": loss.item(), \"lr\": optimizer.param_groups[0]['lr']})\n",
    "\n",
    "            # print statistics\n",
    "            running_loss += loss.item()\n",
    "            if i % 2000 == 1999:    # print every 2000 mini-batches\n",
    "                print(f'[{epoch + 1}, {i + 1:5d}] loss: {running_loss / 2000:.3f}')\n",
    "                running_loss = 0.0\n",
    "\n",
    "    print('Finished Training')\n",
    "    return losses"
   ]
  },
  {
   "cell_type": "code",
   "execution_count": 7,
   "metadata": {},
   "outputs": [],
   "source": [
    "import torch.optim as optim\n",
    "\n",
    "criterion = nn.CrossEntropyLoss()\n",
    "device = torch.device('cpu')"
   ]
  },
  {
   "cell_type": "code",
   "execution_count": 8,
   "metadata": {},
   "outputs": [],
   "source": [
    "def train_with_optimizer(optimizer_name, trainloader, layer_wise=False, device='cpu', lr=0.001):\n",
    "    net = Net().to(device)\n",
    "    net.train()\n",
    "\n",
    "    # Use learning rate from wandb config\n",
    "    lr = wandb.config.learning_rate\n",
    "\n",
    "    if optimizer_name == \"sgd\":\n",
    "        optimizer = optim.SGD\n",
    "    elif optimizer_name == \"adam\":\n",
    "        optimizer = optim.Adam\n",
    "    elif optimizer_name == \"adagrad\":\n",
    "        optimizer = optim.Adagrad\n",
    "    else:\n",
    "        raise ValueError(f\"Unknown optimizer: {optimizer_name}\")\n",
    "\n",
    "    if layer_wise:\n",
    "        optimizer = optimizer([\n",
    "            {'params': net.conv1.parameters()},\n",
    "            {'params': net.conv2.parameters()},\n",
    "            {'params': net.fc1.parameters()},\n",
    "            {'params': net.fc2.parameters()},\n",
    "            {'params': net.fc3.parameters()}\n",
    "        ], lr=lr)\n",
    "    else:\n",
    "        optimizer = optimizer(net.parameters(), lr=lr)\n",
    "\n",
    "    losses = train(net, trainloader, criterion, optimizer, device=device)\n",
    "    return net, losses"
   ]
  },
  {
   "cell_type": "code",
   "execution_count": 9,
   "metadata": {},
   "outputs": [],
   "source": [
    "sweep_config = {\n",
    "    'method': 'bayes',  # or 'random', 'grid'\n",
    "    'metric': {\n",
    "        'name': 'loss',\n",
    "        'goal': 'minimize'\n",
    "    },\n",
    "    'parameters': {\n",
    "        'optimizer': {\n",
    "            'values': ['sgd', 'adam', 'adagrad']\n",
    "        },\n",
    "        'learning_rate': {\n",
    "            'min': 0.0001,\n",
    "            'max': 0.1\n",
    "        }\n",
    "    }\n",
    "}"
   ]
  },
  {
   "cell_type": "code",
   "execution_count": 10,
   "metadata": {},
   "outputs": [
    {
     "name": "stderr",
     "output_type": "stream",
     "text": [
      "\u001b[34m\u001b[1mwandb\u001b[0m: \u001b[33mWARNING\u001b[0m Calling wandb.login() after wandb.init() has no effect.\n"
     ]
    },
    {
     "name": "stdout",
     "output_type": "stream",
     "text": [
      "Create sweep with ID: htvx96h1\n",
      "Sweep URL: https://wandb.ai/stupid-moewe/uncategorized/sweeps/htvx96h1\n",
      "<IPython.core.display.HTML object>\n",
      "<IPython.core.display.HTML object>\n"
     ]
    },
    {
     "name": "stderr",
     "output_type": "stream",
     "text": [
      "\u001b[34m\u001b[1mwandb\u001b[0m: Agent Starting Run: 3nn5txgc with config:\n",
      "\u001b[34m\u001b[1mwandb\u001b[0m: \tlearning_rate: 0.08969952112110884\n",
      "\u001b[34m\u001b[1mwandb\u001b[0m: \toptimizer: adagrad\n"
     ]
    },
    {
     "data": {
      "text/html": [
       "Tracking run with wandb version 0.17.0"
      ],
      "text/plain": [
       "<IPython.core.display.HTML object>"
      ]
     },
     "metadata": {},
     "output_type": "display_data"
    },
    {
     "data": {
      "text/html": [
       "Run data is saved locally in <code>/Users/teframartin/EPFL_Cours/MA4/OptiMlForever/wandb/run-20240531_215708-3nn5txgc</code>"
      ],
      "text/plain": [
       "<IPython.core.display.HTML object>"
      ]
     },
     "metadata": {},
     "output_type": "display_data"
    },
    {
     "data": {
      "text/html": [
       "Syncing run <strong><a href='https://wandb.ai/stupid-moewe/uncategorized/runs/3nn5txgc' target=\"_blank\">brisk-sweep-1</a></strong> to <a href='https://wandb.ai/stupid-moewe/uncategorized' target=\"_blank\">Weights & Biases</a> (<a href='https://wandb.me/run' target=\"_blank\">docs</a>)<br/>Sweep page: <a href='https://wandb.ai/stupid-moewe/uncategorized/sweeps/htvx96h1' target=\"_blank\">https://wandb.ai/stupid-moewe/uncategorized/sweeps/htvx96h1</a>"
      ],
      "text/plain": [
       "<IPython.core.display.HTML object>"
      ]
     },
     "metadata": {},
     "output_type": "display_data"
    },
    {
     "data": {
      "text/html": [
       " View project at <a href='https://wandb.ai/stupid-moewe/uncategorized' target=\"_blank\">https://wandb.ai/stupid-moewe/uncategorized</a>"
      ],
      "text/plain": [
       "<IPython.core.display.HTML object>"
      ]
     },
     "metadata": {},
     "output_type": "display_data"
    },
    {
     "data": {
      "text/html": [
       " View sweep at <a href='https://wandb.ai/stupid-moewe/uncategorized/sweeps/htvx96h1' target=\"_blank\">https://wandb.ai/stupid-moewe/uncategorized/sweeps/htvx96h1</a>"
      ],
      "text/plain": [
       "<IPython.core.display.HTML object>"
      ]
     },
     "metadata": {},
     "output_type": "display_data"
    },
    {
     "data": {
      "text/html": [
       " View run at <a href='https://wandb.ai/stupid-moewe/uncategorized/runs/3nn5txgc' target=\"_blank\">https://wandb.ai/stupid-moewe/uncategorized/runs/3nn5txgc</a>"
      ],
      "text/plain": [
       "<IPython.core.display.HTML object>"
      ]
     },
     "metadata": {},
     "output_type": "display_data"
    },
    {
     "name": "stdout",
     "output_type": "stream",
     "text": [
      "[1,  2000] loss: 2.228\n",
      "[1,  4000] loss: 1.799\n",
      "[1,  6000] loss: 1.690\n",
      "[1,  8000] loss: 1.624\n",
      "[1, 10000] loss: 1.614\n",
      "[1, 12000] loss: 1.560\n",
      "[2,  2000] loss: 1.520\n",
      "[2,  4000] loss: 1.496\n",
      "[2,  6000] loss: 1.483\n",
      "[2,  8000] loss: 1.457\n",
      "[2, 10000] loss: 1.433\n",
      "[2, 12000] loss: 1.422\n",
      "Finished Training\n"
     ]
    },
    {
     "data": {
      "text/html": [
       "<style>\n",
       "    table.wandb td:nth-child(1) { padding: 0 10px; text-align: left ; width: auto;} td:nth-child(2) {text-align: left ; width: 100%}\n",
       "    .wandb-row { display: flex; flex-direction: row; flex-wrap: wrap; justify-content: flex-start; width: 100% }\n",
       "    .wandb-col { display: flex; flex-direction: column; flex-basis: 100%; flex: 1; padding: 10px; }\n",
       "    </style>\n",
       "<div class=\"wandb-row\"><div class=\"wandb-col\"><h3>Run history:</h3><br/><table class=\"wandb\"><tr><td>loss</td><td>▆▄▄▄▄▃▄▃▆▅▃▃▄█▂▁▄▁▃▁▃▆▁▃█▅▅▄▃▂▅▂▂▃▁▄▅▅▄▁</td></tr><tr><td>lr</td><td>▁▁▁▁▁▁▁▁▁▁▁▁▁▁▁▁▁▁▁▁▁▁▁▁▁▁▁▁▁▁▁▁▁▁▁▁▁▁▁▁</td></tr></table><br/></div><div class=\"wandb-col\"><h3>Run summary:</h3><br/><table class=\"wandb\"><tr><td>loss</td><td>1.87983</td></tr><tr><td>lr</td><td>0.0897</td></tr></table><br/></div></div>"
      ],
      "text/plain": [
       "<IPython.core.display.HTML object>"
      ]
     },
     "metadata": {},
     "output_type": "display_data"
    },
    {
     "data": {
      "text/html": [
       " View run <strong style=\"color:#cdcd00\">brisk-sweep-1</strong> at: <a href='https://wandb.ai/stupid-moewe/uncategorized/runs/3nn5txgc' target=\"_blank\">https://wandb.ai/stupid-moewe/uncategorized/runs/3nn5txgc</a><br/> View project at: <a href='https://wandb.ai/stupid-moewe/uncategorized' target=\"_blank\">https://wandb.ai/stupid-moewe/uncategorized</a><br/>Synced 6 W&B file(s), 0 media file(s), 0 artifact file(s) and 0 other file(s)"
      ],
      "text/plain": [
       "<IPython.core.display.HTML object>"
      ]
     },
     "metadata": {},
     "output_type": "display_data"
    },
    {
     "data": {
      "text/html": [
       "Find logs at: <code>./wandb/run-20240531_215708-3nn5txgc/logs</code>"
      ],
      "text/plain": [
       "<IPython.core.display.HTML object>"
      ]
     },
     "metadata": {},
     "output_type": "display_data"
    },
    {
     "name": "stderr",
     "output_type": "stream",
     "text": [
      "\u001b[34m\u001b[1mwandb\u001b[0m: Agent Starting Run: ljjzmtwi with config:\n",
      "\u001b[34m\u001b[1mwandb\u001b[0m: \tlearning_rate: 0.07988088112807902\n",
      "\u001b[34m\u001b[1mwandb\u001b[0m: \toptimizer: adagrad\n"
     ]
    },
    {
     "data": {
      "text/html": [
       "Tracking run with wandb version 0.17.0"
      ],
      "text/plain": [
       "<IPython.core.display.HTML object>"
      ]
     },
     "metadata": {},
     "output_type": "display_data"
    },
    {
     "data": {
      "text/html": [
       "Run data is saved locally in <code>/Users/teframartin/EPFL_Cours/MA4/OptiMlForever/wandb/run-20240531_215835-ljjzmtwi</code>"
      ],
      "text/plain": [
       "<IPython.core.display.HTML object>"
      ]
     },
     "metadata": {},
     "output_type": "display_data"
    },
    {
     "data": {
      "text/html": [
       "Syncing run <strong><a href='https://wandb.ai/stupid-moewe/uncategorized/runs/ljjzmtwi' target=\"_blank\">laced-sweep-2</a></strong> to <a href='https://wandb.ai/stupid-moewe/uncategorized' target=\"_blank\">Weights & Biases</a> (<a href='https://wandb.me/run' target=\"_blank\">docs</a>)<br/>Sweep page: <a href='https://wandb.ai/stupid-moewe/uncategorized/sweeps/htvx96h1' target=\"_blank\">https://wandb.ai/stupid-moewe/uncategorized/sweeps/htvx96h1</a>"
      ],
      "text/plain": [
       "<IPython.core.display.HTML object>"
      ]
     },
     "metadata": {},
     "output_type": "display_data"
    },
    {
     "data": {
      "text/html": [
       " View project at <a href='https://wandb.ai/stupid-moewe/uncategorized' target=\"_blank\">https://wandb.ai/stupid-moewe/uncategorized</a>"
      ],
      "text/plain": [
       "<IPython.core.display.HTML object>"
      ]
     },
     "metadata": {},
     "output_type": "display_data"
    },
    {
     "data": {
      "text/html": [
       " View sweep at <a href='https://wandb.ai/stupid-moewe/uncategorized/sweeps/htvx96h1' target=\"_blank\">https://wandb.ai/stupid-moewe/uncategorized/sweeps/htvx96h1</a>"
      ],
      "text/plain": [
       "<IPython.core.display.HTML object>"
      ]
     },
     "metadata": {},
     "output_type": "display_data"
    },
    {
     "data": {
      "text/html": [
       " View run at <a href='https://wandb.ai/stupid-moewe/uncategorized/runs/ljjzmtwi' target=\"_blank\">https://wandb.ai/stupid-moewe/uncategorized/runs/ljjzmtwi</a>"
      ],
      "text/plain": [
       "<IPython.core.display.HTML object>"
      ]
     },
     "metadata": {},
     "output_type": "display_data"
    },
    {
     "name": "stdout",
     "output_type": "stream",
     "text": [
      "[1,  2000] loss: 2.267\n",
      "[1,  4000] loss: 1.880\n",
      "[1,  6000] loss: 1.786\n",
      "[1,  8000] loss: 1.735\n",
      "[1, 10000] loss: 1.664\n",
      "[1, 12000] loss: 1.623\n",
      "[2,  2000] loss: 1.556\n",
      "[2,  4000] loss: 1.533\n",
      "[2,  6000] loss: 1.501\n",
      "[2,  8000] loss: 1.496\n",
      "[2, 10000] loss: 1.472\n",
      "[2, 12000] loss: 1.447\n",
      "Finished Training\n"
     ]
    },
    {
     "data": {
      "text/html": [
       "<style>\n",
       "    table.wandb td:nth-child(1) { padding: 0 10px; text-align: left ; width: auto;} td:nth-child(2) {text-align: left ; width: 100%}\n",
       "    .wandb-row { display: flex; flex-direction: row; flex-wrap: wrap; justify-content: flex-start; width: 100% }\n",
       "    .wandb-col { display: flex; flex-direction: column; flex-basis: 100%; flex: 1; padding: 10px; }\n",
       "    </style>\n",
       "<div class=\"wandb-row\"><div class=\"wandb-col\"><h3>Run history:</h3><br/><table class=\"wandb\"><tr><td>loss</td><td>▆▆▅█▄▅▅▆▅█▃▃▅▆▄▅▂▄▄▅▃▂▃▃▁▃▅▄▃▄▄▂▄▅▄▅▃▃▃▆</td></tr><tr><td>lr</td><td>▁▁▁▁▁▁▁▁▁▁▁▁▁▁▁▁▁▁▁▁▁▁▁▁▁▁▁▁▁▁▁▁▁▁▁▁▁▁▁▁</td></tr></table><br/></div><div class=\"wandb-col\"><h3>Run summary:</h3><br/><table class=\"wandb\"><tr><td>loss</td><td>1.08044</td></tr><tr><td>lr</td><td>0.07988</td></tr></table><br/></div></div>"
      ],
      "text/plain": [
       "<IPython.core.display.HTML object>"
      ]
     },
     "metadata": {},
     "output_type": "display_data"
    },
    {
     "data": {
      "text/html": [
       " View run <strong style=\"color:#cdcd00\">laced-sweep-2</strong> at: <a href='https://wandb.ai/stupid-moewe/uncategorized/runs/ljjzmtwi' target=\"_blank\">https://wandb.ai/stupid-moewe/uncategorized/runs/ljjzmtwi</a><br/> View project at: <a href='https://wandb.ai/stupid-moewe/uncategorized' target=\"_blank\">https://wandb.ai/stupid-moewe/uncategorized</a><br/>Synced 6 W&B file(s), 0 media file(s), 0 artifact file(s) and 0 other file(s)"
      ],
      "text/plain": [
       "<IPython.core.display.HTML object>"
      ]
     },
     "metadata": {},
     "output_type": "display_data"
    },
    {
     "data": {
      "text/html": [
       "Find logs at: <code>./wandb/run-20240531_215835-ljjzmtwi/logs</code>"
      ],
      "text/plain": [
       "<IPython.core.display.HTML object>"
      ]
     },
     "metadata": {},
     "output_type": "display_data"
    },
    {
     "name": "stderr",
     "output_type": "stream",
     "text": [
      "\u001b[34m\u001b[1mwandb\u001b[0m: Agent Starting Run: 6go1hqbv with config:\n",
      "\u001b[34m\u001b[1mwandb\u001b[0m: \tlearning_rate: 0.04598048179564303\n",
      "\u001b[34m\u001b[1mwandb\u001b[0m: \toptimizer: sgd\n"
     ]
    },
    {
     "data": {
      "text/html": [
       "Tracking run with wandb version 0.17.0"
      ],
      "text/plain": [
       "<IPython.core.display.HTML object>"
      ]
     },
     "metadata": {},
     "output_type": "display_data"
    },
    {
     "data": {
      "text/html": [
       "Run data is saved locally in <code>/Users/teframartin/EPFL_Cours/MA4/OptiMlForever/wandb/run-20240531_220001-6go1hqbv</code>"
      ],
      "text/plain": [
       "<IPython.core.display.HTML object>"
      ]
     },
     "metadata": {},
     "output_type": "display_data"
    },
    {
     "data": {
      "text/html": [
       "Syncing run <strong><a href='https://wandb.ai/stupid-moewe/uncategorized/runs/6go1hqbv' target=\"_blank\">exalted-sweep-3</a></strong> to <a href='https://wandb.ai/stupid-moewe/uncategorized' target=\"_blank\">Weights & Biases</a> (<a href='https://wandb.me/run' target=\"_blank\">docs</a>)<br/>Sweep page: <a href='https://wandb.ai/stupid-moewe/uncategorized/sweeps/htvx96h1' target=\"_blank\">https://wandb.ai/stupid-moewe/uncategorized/sweeps/htvx96h1</a>"
      ],
      "text/plain": [
       "<IPython.core.display.HTML object>"
      ]
     },
     "metadata": {},
     "output_type": "display_data"
    },
    {
     "data": {
      "text/html": [
       " View project at <a href='https://wandb.ai/stupid-moewe/uncategorized' target=\"_blank\">https://wandb.ai/stupid-moewe/uncategorized</a>"
      ],
      "text/plain": [
       "<IPython.core.display.HTML object>"
      ]
     },
     "metadata": {},
     "output_type": "display_data"
    },
    {
     "data": {
      "text/html": [
       " View sweep at <a href='https://wandb.ai/stupid-moewe/uncategorized/sweeps/htvx96h1' target=\"_blank\">https://wandb.ai/stupid-moewe/uncategorized/sweeps/htvx96h1</a>"
      ],
      "text/plain": [
       "<IPython.core.display.HTML object>"
      ]
     },
     "metadata": {},
     "output_type": "display_data"
    },
    {
     "data": {
      "text/html": [
       " View run at <a href='https://wandb.ai/stupid-moewe/uncategorized/runs/6go1hqbv' target=\"_blank\">https://wandb.ai/stupid-moewe/uncategorized/runs/6go1hqbv</a>"
      ],
      "text/plain": [
       "<IPython.core.display.HTML object>"
      ]
     },
     "metadata": {},
     "output_type": "display_data"
    },
    {
     "name": "stdout",
     "output_type": "stream",
     "text": [
      "[1,  2000] loss: 2.010\n",
      "[1,  4000] loss: 1.746\n",
      "[1,  6000] loss: 1.673\n",
      "[1,  8000] loss: 1.647\n",
      "[1, 10000] loss: 1.630\n",
      "[1, 12000] loss: 1.594\n",
      "[2,  2000] loss: 1.559\n",
      "[2,  4000] loss: 1.560\n",
      "[2,  6000] loss: 1.562\n",
      "[2,  8000] loss: 1.580\n",
      "[2, 10000] loss: 1.547\n",
      "[2, 12000] loss: 1.567\n",
      "Finished Training\n"
     ]
    },
    {
     "data": {
      "text/html": [
       "<style>\n",
       "    table.wandb td:nth-child(1) { padding: 0 10px; text-align: left ; width: auto;} td:nth-child(2) {text-align: left ; width: 100%}\n",
       "    .wandb-row { display: flex; flex-direction: row; flex-wrap: wrap; justify-content: flex-start; width: 100% }\n",
       "    .wandb-col { display: flex; flex-direction: column; flex-basis: 100%; flex: 1; padding: 10px; }\n",
       "    </style>\n",
       "<div class=\"wandb-row\"><div class=\"wandb-col\"><h3>Run history:</h3><br/><table class=\"wandb\"><tr><td>loss</td><td>▇▆█▄█▄▃▇▁▅▆▆▄▅▄▅▄▃▄▄▃▅▆▁▃▃▆▂▁▄▇▁▃▅▃▂▃▂▃▂</td></tr><tr><td>lr</td><td>▁▁▁▁▁▁▁▁▁▁▁▁▁▁▁▁▁▁▁▁▁▁▁▁▁▁▁▁▁▁▁▁▁▁▁▁▁▁▁▁</td></tr></table><br/></div><div class=\"wandb-col\"><h3>Run summary:</h3><br/><table class=\"wandb\"><tr><td>loss</td><td>1.02761</td></tr><tr><td>lr</td><td>0.04598</td></tr></table><br/></div></div>"
      ],
      "text/plain": [
       "<IPython.core.display.HTML object>"
      ]
     },
     "metadata": {},
     "output_type": "display_data"
    },
    {
     "data": {
      "text/html": [
       " View run <strong style=\"color:#cdcd00\">exalted-sweep-3</strong> at: <a href='https://wandb.ai/stupid-moewe/uncategorized/runs/6go1hqbv' target=\"_blank\">https://wandb.ai/stupid-moewe/uncategorized/runs/6go1hqbv</a><br/> View project at: <a href='https://wandb.ai/stupid-moewe/uncategorized' target=\"_blank\">https://wandb.ai/stupid-moewe/uncategorized</a><br/>Synced 6 W&B file(s), 0 media file(s), 0 artifact file(s) and 0 other file(s)"
      ],
      "text/plain": [
       "<IPython.core.display.HTML object>"
      ]
     },
     "metadata": {},
     "output_type": "display_data"
    },
    {
     "data": {
      "text/html": [
       "Find logs at: <code>./wandb/run-20240531_220001-6go1hqbv/logs</code>"
      ],
      "text/plain": [
       "<IPython.core.display.HTML object>"
      ]
     },
     "metadata": {},
     "output_type": "display_data"
    },
    {
     "name": "stderr",
     "output_type": "stream",
     "text": [
      "\u001b[34m\u001b[1mwandb\u001b[0m: Agent Starting Run: 05qphsmk with config:\n",
      "\u001b[34m\u001b[1mwandb\u001b[0m: \tlearning_rate: 0.09333516500724652\n",
      "\u001b[34m\u001b[1mwandb\u001b[0m: \toptimizer: sgd\n"
     ]
    },
    {
     "data": {
      "text/html": [
       "Tracking run with wandb version 0.17.0"
      ],
      "text/plain": [
       "<IPython.core.display.HTML object>"
      ]
     },
     "metadata": {},
     "output_type": "display_data"
    },
    {
     "data": {
      "text/html": [
       "Run data is saved locally in <code>/Users/teframartin/EPFL_Cours/MA4/OptiMlForever/wandb/run-20240531_220124-05qphsmk</code>"
      ],
      "text/plain": [
       "<IPython.core.display.HTML object>"
      ]
     },
     "metadata": {},
     "output_type": "display_data"
    },
    {
     "data": {
      "text/html": [
       "Syncing run <strong><a href='https://wandb.ai/stupid-moewe/uncategorized/runs/05qphsmk' target=\"_blank\">unique-sweep-4</a></strong> to <a href='https://wandb.ai/stupid-moewe/uncategorized' target=\"_blank\">Weights & Biases</a> (<a href='https://wandb.me/run' target=\"_blank\">docs</a>)<br/>Sweep page: <a href='https://wandb.ai/stupid-moewe/uncategorized/sweeps/htvx96h1' target=\"_blank\">https://wandb.ai/stupid-moewe/uncategorized/sweeps/htvx96h1</a>"
      ],
      "text/plain": [
       "<IPython.core.display.HTML object>"
      ]
     },
     "metadata": {},
     "output_type": "display_data"
    },
    {
     "data": {
      "text/html": [
       " View project at <a href='https://wandb.ai/stupid-moewe/uncategorized' target=\"_blank\">https://wandb.ai/stupid-moewe/uncategorized</a>"
      ],
      "text/plain": [
       "<IPython.core.display.HTML object>"
      ]
     },
     "metadata": {},
     "output_type": "display_data"
    },
    {
     "data": {
      "text/html": [
       " View sweep at <a href='https://wandb.ai/stupid-moewe/uncategorized/sweeps/htvx96h1' target=\"_blank\">https://wandb.ai/stupid-moewe/uncategorized/sweeps/htvx96h1</a>"
      ],
      "text/plain": [
       "<IPython.core.display.HTML object>"
      ]
     },
     "metadata": {},
     "output_type": "display_data"
    },
    {
     "data": {
      "text/html": [
       " View run at <a href='https://wandb.ai/stupid-moewe/uncategorized/runs/05qphsmk' target=\"_blank\">https://wandb.ai/stupid-moewe/uncategorized/runs/05qphsmk</a>"
      ],
      "text/plain": [
       "<IPython.core.display.HTML object>"
      ]
     },
     "metadata": {},
     "output_type": "display_data"
    },
    {
     "name": "stdout",
     "output_type": "stream",
     "text": [
      "[1,  2000] loss: 2.081\n",
      "[1,  4000] loss: 1.955\n",
      "[1,  6000] loss: 1.907\n",
      "[1,  8000] loss: 1.910\n",
      "[1, 10000] loss: 1.939\n",
      "[1, 12000] loss: 1.938\n",
      "[2,  2000] loss: 1.915\n",
      "[2,  4000] loss: 1.931\n",
      "[2,  6000] loss: 1.980\n",
      "[2,  8000] loss: 1.960\n",
      "[2, 10000] loss: 1.959\n",
      "[2, 12000] loss: 1.989\n",
      "Finished Training\n"
     ]
    },
    {
     "data": {
      "text/html": [
       "<style>\n",
       "    table.wandb td:nth-child(1) { padding: 0 10px; text-align: left ; width: auto;} td:nth-child(2) {text-align: left ; width: 100%}\n",
       "    .wandb-row { display: flex; flex-direction: row; flex-wrap: wrap; justify-content: flex-start; width: 100% }\n",
       "    .wandb-col { display: flex; flex-direction: column; flex-basis: 100%; flex: 1; padding: 10px; }\n",
       "    </style>\n",
       "<div class=\"wandb-row\"><div class=\"wandb-col\"><h3>Run history:</h3><br/><table class=\"wandb\"><tr><td>loss</td><td>▃▄▃▂█▃▃▅▃▂▂▃▃▂▃▆▂▄▃▄▃▃▃▁▃▂▄▃▅▃▄▃▃▃▃▄▂▄▂▂</td></tr><tr><td>lr</td><td>▁▁▁▁▁▁▁▁▁▁▁▁▁▁▁▁▁▁▁▁▁▁▁▁▁▁▁▁▁▁▁▁▁▁▁▁▁▁▁▁</td></tr></table><br/></div><div class=\"wandb-col\"><h3>Run summary:</h3><br/><table class=\"wandb\"><tr><td>loss</td><td>2.44402</td></tr><tr><td>lr</td><td>0.09334</td></tr></table><br/></div></div>"
      ],
      "text/plain": [
       "<IPython.core.display.HTML object>"
      ]
     },
     "metadata": {},
     "output_type": "display_data"
    },
    {
     "data": {
      "text/html": [
       " View run <strong style=\"color:#cdcd00\">unique-sweep-4</strong> at: <a href='https://wandb.ai/stupid-moewe/uncategorized/runs/05qphsmk' target=\"_blank\">https://wandb.ai/stupid-moewe/uncategorized/runs/05qphsmk</a><br/> View project at: <a href='https://wandb.ai/stupid-moewe/uncategorized' target=\"_blank\">https://wandb.ai/stupid-moewe/uncategorized</a><br/>Synced 6 W&B file(s), 0 media file(s), 0 artifact file(s) and 0 other file(s)"
      ],
      "text/plain": [
       "<IPython.core.display.HTML object>"
      ]
     },
     "metadata": {},
     "output_type": "display_data"
    },
    {
     "data": {
      "text/html": [
       "Find logs at: <code>./wandb/run-20240531_220124-05qphsmk/logs</code>"
      ],
      "text/plain": [
       "<IPython.core.display.HTML object>"
      ]
     },
     "metadata": {},
     "output_type": "display_data"
    },
    {
     "name": "stderr",
     "output_type": "stream",
     "text": [
      "\u001b[34m\u001b[1mwandb\u001b[0m: Agent Starting Run: aokblas2 with config:\n",
      "\u001b[34m\u001b[1mwandb\u001b[0m: \tlearning_rate: 0.0017743237286650137\n",
      "\u001b[34m\u001b[1mwandb\u001b[0m: \toptimizer: adam\n"
     ]
    },
    {
     "data": {
      "text/html": [
       "Tracking run with wandb version 0.17.0"
      ],
      "text/plain": [
       "<IPython.core.display.HTML object>"
      ]
     },
     "metadata": {},
     "output_type": "display_data"
    },
    {
     "data": {
      "text/html": [
       "Run data is saved locally in <code>/Users/teframartin/EPFL_Cours/MA4/OptiMlForever/wandb/run-20240531_220242-aokblas2</code>"
      ],
      "text/plain": [
       "<IPython.core.display.HTML object>"
      ]
     },
     "metadata": {},
     "output_type": "display_data"
    },
    {
     "data": {
      "text/html": [
       "Syncing run <strong><a href='https://wandb.ai/stupid-moewe/uncategorized/runs/aokblas2' target=\"_blank\">peach-sweep-5</a></strong> to <a href='https://wandb.ai/stupid-moewe/uncategorized' target=\"_blank\">Weights & Biases</a> (<a href='https://wandb.me/run' target=\"_blank\">docs</a>)<br/>Sweep page: <a href='https://wandb.ai/stupid-moewe/uncategorized/sweeps/htvx96h1' target=\"_blank\">https://wandb.ai/stupid-moewe/uncategorized/sweeps/htvx96h1</a>"
      ],
      "text/plain": [
       "<IPython.core.display.HTML object>"
      ]
     },
     "metadata": {},
     "output_type": "display_data"
    },
    {
     "data": {
      "text/html": [
       " View project at <a href='https://wandb.ai/stupid-moewe/uncategorized' target=\"_blank\">https://wandb.ai/stupid-moewe/uncategorized</a>"
      ],
      "text/plain": [
       "<IPython.core.display.HTML object>"
      ]
     },
     "metadata": {},
     "output_type": "display_data"
    },
    {
     "data": {
      "text/html": [
       " View sweep at <a href='https://wandb.ai/stupid-moewe/uncategorized/sweeps/htvx96h1' target=\"_blank\">https://wandb.ai/stupid-moewe/uncategorized/sweeps/htvx96h1</a>"
      ],
      "text/plain": [
       "<IPython.core.display.HTML object>"
      ]
     },
     "metadata": {},
     "output_type": "display_data"
    },
    {
     "data": {
      "text/html": [
       " View run at <a href='https://wandb.ai/stupid-moewe/uncategorized/runs/aokblas2' target=\"_blank\">https://wandb.ai/stupid-moewe/uncategorized/runs/aokblas2</a>"
      ],
      "text/plain": [
       "<IPython.core.display.HTML object>"
      ]
     },
     "metadata": {},
     "output_type": "display_data"
    },
    {
     "name": "stdout",
     "output_type": "stream",
     "text": [
      "[1,  2000] loss: 1.915\n",
      "[1,  4000] loss: 1.636\n",
      "[1,  6000] loss: 1.571\n",
      "[1,  8000] loss: 1.539\n",
      "[1, 10000] loss: 1.481\n",
      "[1, 12000] loss: 1.462\n",
      "[2,  2000] loss: 1.405\n",
      "[2,  4000] loss: 1.414\n",
      "[2,  6000] loss: 1.391\n",
      "[2,  8000] loss: 1.382\n",
      "[2, 10000] loss: 1.352\n",
      "[2, 12000] loss: 1.358\n",
      "Finished Training\n"
     ]
    },
    {
     "data": {
      "text/html": [
       "<style>\n",
       "    table.wandb td:nth-child(1) { padding: 0 10px; text-align: left ; width: auto;} td:nth-child(2) {text-align: left ; width: 100%}\n",
       "    .wandb-row { display: flex; flex-direction: row; flex-wrap: wrap; justify-content: flex-start; width: 100% }\n",
       "    .wandb-col { display: flex; flex-direction: column; flex-basis: 100%; flex: 1; padding: 10px; }\n",
       "    </style>\n",
       "<div class=\"wandb-row\"><div class=\"wandb-col\"><h3>Run history:</h3><br/><table class=\"wandb\"><tr><td>loss</td><td>▇▆▆█▃▆▆▄▆▅▂▅▂▃▄▃▄▅▄▅▃▄▆▃▂▅▄▅▅▄▂▁▃▅▄▁▁▂▆▄</td></tr><tr><td>lr</td><td>▁▁▁▁▁▁▁▁▁▁▁▁▁▁▁▁▁▁▁▁▁▁▁▁▁▁▁▁▁▁▁▁▁▁▁▁▁▁▁▁</td></tr></table><br/></div><div class=\"wandb-col\"><h3>Run summary:</h3><br/><table class=\"wandb\"><tr><td>loss</td><td>1.42148</td></tr><tr><td>lr</td><td>0.00177</td></tr></table><br/></div></div>"
      ],
      "text/plain": [
       "<IPython.core.display.HTML object>"
      ]
     },
     "metadata": {},
     "output_type": "display_data"
    },
    {
     "data": {
      "text/html": [
       " View run <strong style=\"color:#cdcd00\">peach-sweep-5</strong> at: <a href='https://wandb.ai/stupid-moewe/uncategorized/runs/aokblas2' target=\"_blank\">https://wandb.ai/stupid-moewe/uncategorized/runs/aokblas2</a><br/> View project at: <a href='https://wandb.ai/stupid-moewe/uncategorized' target=\"_blank\">https://wandb.ai/stupid-moewe/uncategorized</a><br/>Synced 6 W&B file(s), 0 media file(s), 0 artifact file(s) and 0 other file(s)"
      ],
      "text/plain": [
       "<IPython.core.display.HTML object>"
      ]
     },
     "metadata": {},
     "output_type": "display_data"
    },
    {
     "data": {
      "text/html": [
       "Find logs at: <code>./wandb/run-20240531_220242-aokblas2/logs</code>"
      ],
      "text/plain": [
       "<IPython.core.display.HTML object>"
      ]
     },
     "metadata": {},
     "output_type": "display_data"
    },
    {
     "name": "stderr",
     "output_type": "stream",
     "text": [
      "\u001b[34m\u001b[1mwandb\u001b[0m: Sweep Agent: Waiting for job.\n",
      "\u001b[34m\u001b[1mwandb\u001b[0m: Job received.\n",
      "\u001b[34m\u001b[1mwandb\u001b[0m: Agent Starting Run: 8axc7yqx with config:\n",
      "\u001b[34m\u001b[1mwandb\u001b[0m: \tlearning_rate: 0.0483528880360491\n",
      "\u001b[34m\u001b[1mwandb\u001b[0m: \toptimizer: adam\n"
     ]
    },
    {
     "data": {
      "text/html": [
       "Tracking run with wandb version 0.17.0"
      ],
      "text/plain": [
       "<IPython.core.display.HTML object>"
      ]
     },
     "metadata": {},
     "output_type": "display_data"
    },
    {
     "data": {
      "text/html": [
       "Run data is saved locally in <code>/Users/teframartin/EPFL_Cours/MA4/OptiMlForever/wandb/run-20240531_220424-8axc7yqx</code>"
      ],
      "text/plain": [
       "<IPython.core.display.HTML object>"
      ]
     },
     "metadata": {},
     "output_type": "display_data"
    },
    {
     "data": {
      "text/html": [
       "Syncing run <strong><a href='https://wandb.ai/stupid-moewe/uncategorized/runs/8axc7yqx' target=\"_blank\">valiant-sweep-6</a></strong> to <a href='https://wandb.ai/stupid-moewe/uncategorized' target=\"_blank\">Weights & Biases</a> (<a href='https://wandb.me/run' target=\"_blank\">docs</a>)<br/>Sweep page: <a href='https://wandb.ai/stupid-moewe/uncategorized/sweeps/htvx96h1' target=\"_blank\">https://wandb.ai/stupid-moewe/uncategorized/sweeps/htvx96h1</a>"
      ],
      "text/plain": [
       "<IPython.core.display.HTML object>"
      ]
     },
     "metadata": {},
     "output_type": "display_data"
    },
    {
     "data": {
      "text/html": [
       " View project at <a href='https://wandb.ai/stupid-moewe/uncategorized' target=\"_blank\">https://wandb.ai/stupid-moewe/uncategorized</a>"
      ],
      "text/plain": [
       "<IPython.core.display.HTML object>"
      ]
     },
     "metadata": {},
     "output_type": "display_data"
    },
    {
     "data": {
      "text/html": [
       " View sweep at <a href='https://wandb.ai/stupid-moewe/uncategorized/sweeps/htvx96h1' target=\"_blank\">https://wandb.ai/stupid-moewe/uncategorized/sweeps/htvx96h1</a>"
      ],
      "text/plain": [
       "<IPython.core.display.HTML object>"
      ]
     },
     "metadata": {},
     "output_type": "display_data"
    },
    {
     "data": {
      "text/html": [
       " View run at <a href='https://wandb.ai/stupid-moewe/uncategorized/runs/8axc7yqx' target=\"_blank\">https://wandb.ai/stupid-moewe/uncategorized/runs/8axc7yqx</a>"
      ],
      "text/plain": [
       "<IPython.core.display.HTML object>"
      ]
     },
     "metadata": {},
     "output_type": "display_data"
    },
    {
     "name": "stdout",
     "output_type": "stream",
     "text": [
      "[1,  2000] loss: 2.333\n",
      "[1,  4000] loss: 2.322\n",
      "[1,  6000] loss: 2.320\n",
      "[1,  8000] loss: 2.320\n",
      "[1, 10000] loss: 2.320\n",
      "[1, 12000] loss: 2.320\n",
      "[2,  2000] loss: 2.320\n",
      "[2,  4000] loss: 2.322\n",
      "[2,  6000] loss: 2.321\n",
      "[2,  8000] loss: 2.322\n",
      "[2, 10000] loss: 2.321\n",
      "[2, 12000] loss: 2.320\n",
      "Finished Training\n"
     ]
    },
    {
     "data": {
      "text/html": [
       "<style>\n",
       "    table.wandb td:nth-child(1) { padding: 0 10px; text-align: left ; width: auto;} td:nth-child(2) {text-align: left ; width: 100%}\n",
       "    .wandb-row { display: flex; flex-direction: row; flex-wrap: wrap; justify-content: flex-start; width: 100% }\n",
       "    .wandb-col { display: flex; flex-direction: column; flex-basis: 100%; flex: 1; padding: 10px; }\n",
       "    </style>\n",
       "<div class=\"wandb-row\"><div class=\"wandb-col\"><h3>Run history:</h3><br/><table class=\"wandb\"><tr><td>loss</td><td>▇▄▅▅▆▅▃▂█▆▄▇▅▅▇▃▅▁▃▅▄▇▄▄▆▅▅▂▇▅▅▅▅▄▅▃▅▄▆▄</td></tr><tr><td>lr</td><td>▁▁▁▁▁▁▁▁▁▁▁▁▁▁▁▁▁▁▁▁▁▁▁▁▁▁▁▁▁▁▁▁▁▁▁▁▁▁▁▁</td></tr></table><br/></div><div class=\"wandb-col\"><h3>Run summary:</h3><br/><table class=\"wandb\"><tr><td>loss</td><td>2.41747</td></tr><tr><td>lr</td><td>0.04835</td></tr></table><br/></div></div>"
      ],
      "text/plain": [
       "<IPython.core.display.HTML object>"
      ]
     },
     "metadata": {},
     "output_type": "display_data"
    },
    {
     "data": {
      "text/html": [
       " View run <strong style=\"color:#cdcd00\">valiant-sweep-6</strong> at: <a href='https://wandb.ai/stupid-moewe/uncategorized/runs/8axc7yqx' target=\"_blank\">https://wandb.ai/stupid-moewe/uncategorized/runs/8axc7yqx</a><br/> View project at: <a href='https://wandb.ai/stupid-moewe/uncategorized' target=\"_blank\">https://wandb.ai/stupid-moewe/uncategorized</a><br/>Synced 6 W&B file(s), 0 media file(s), 0 artifact file(s) and 0 other file(s)"
      ],
      "text/plain": [
       "<IPython.core.display.HTML object>"
      ]
     },
     "metadata": {},
     "output_type": "display_data"
    },
    {
     "data": {
      "text/html": [
       "Find logs at: <code>./wandb/run-20240531_220424-8axc7yqx/logs</code>"
      ],
      "text/plain": [
       "<IPython.core.display.HTML object>"
      ]
     },
     "metadata": {},
     "output_type": "display_data"
    },
    {
     "name": "stderr",
     "output_type": "stream",
     "text": [
      "\u001b[34m\u001b[1mwandb\u001b[0m: Agent Starting Run: 4uj09z5f with config:\n",
      "\u001b[34m\u001b[1mwandb\u001b[0m: \tlearning_rate: 0.00775677563888795\n",
      "\u001b[34m\u001b[1mwandb\u001b[0m: \toptimizer: sgd\n"
     ]
    },
    {
     "data": {
      "text/html": [
       "Tracking run with wandb version 0.17.0"
      ],
      "text/plain": [
       "<IPython.core.display.HTML object>"
      ]
     },
     "metadata": {},
     "output_type": "display_data"
    },
    {
     "data": {
      "text/html": [
       "Run data is saved locally in <code>/Users/teframartin/EPFL_Cours/MA4/OptiMlForever/wandb/run-20240531_220608-4uj09z5f</code>"
      ],
      "text/plain": [
       "<IPython.core.display.HTML object>"
      ]
     },
     "metadata": {},
     "output_type": "display_data"
    },
    {
     "data": {
      "text/html": [
       "Syncing run <strong><a href='https://wandb.ai/stupid-moewe/uncategorized/runs/4uj09z5f' target=\"_blank\">avid-sweep-7</a></strong> to <a href='https://wandb.ai/stupid-moewe/uncategorized' target=\"_blank\">Weights & Biases</a> (<a href='https://wandb.me/run' target=\"_blank\">docs</a>)<br/>Sweep page: <a href='https://wandb.ai/stupid-moewe/uncategorized/sweeps/htvx96h1' target=\"_blank\">https://wandb.ai/stupid-moewe/uncategorized/sweeps/htvx96h1</a>"
      ],
      "text/plain": [
       "<IPython.core.display.HTML object>"
      ]
     },
     "metadata": {},
     "output_type": "display_data"
    },
    {
     "data": {
      "text/html": [
       " View project at <a href='https://wandb.ai/stupid-moewe/uncategorized' target=\"_blank\">https://wandb.ai/stupid-moewe/uncategorized</a>"
      ],
      "text/plain": [
       "<IPython.core.display.HTML object>"
      ]
     },
     "metadata": {},
     "output_type": "display_data"
    },
    {
     "data": {
      "text/html": [
       " View sweep at <a href='https://wandb.ai/stupid-moewe/uncategorized/sweeps/htvx96h1' target=\"_blank\">https://wandb.ai/stupid-moewe/uncategorized/sweeps/htvx96h1</a>"
      ],
      "text/plain": [
       "<IPython.core.display.HTML object>"
      ]
     },
     "metadata": {},
     "output_type": "display_data"
    },
    {
     "data": {
      "text/html": [
       " View run at <a href='https://wandb.ai/stupid-moewe/uncategorized/runs/4uj09z5f' target=\"_blank\">https://wandb.ai/stupid-moewe/uncategorized/runs/4uj09z5f</a>"
      ],
      "text/plain": [
       "<IPython.core.display.HTML object>"
      ]
     },
     "metadata": {},
     "output_type": "display_data"
    },
    {
     "name": "stdout",
     "output_type": "stream",
     "text": [
      "[1,  2000] loss: 2.236\n",
      "[1,  4000] loss: 1.915\n",
      "[1,  6000] loss: 1.744\n",
      "[1,  8000] loss: 1.632\n",
      "[1, 10000] loss: 1.541\n",
      "[1, 12000] loss: 1.496\n",
      "[2,  2000] loss: 1.432\n",
      "[2,  4000] loss: 1.397\n",
      "[2,  6000] loss: 1.366\n",
      "[2,  8000] loss: 1.337\n",
      "[2, 10000] loss: 1.319\n",
      "[2, 12000] loss: 1.291\n",
      "Finished Training\n"
     ]
    },
    {
     "data": {
      "text/html": [
       "<style>\n",
       "    table.wandb td:nth-child(1) { padding: 0 10px; text-align: left ; width: auto;} td:nth-child(2) {text-align: left ; width: 100%}\n",
       "    .wandb-row { display: flex; flex-direction: row; flex-wrap: wrap; justify-content: flex-start; width: 100% }\n",
       "    .wandb-col { display: flex; flex-direction: column; flex-basis: 100%; flex: 1; padding: 10px; }\n",
       "    </style>\n",
       "<div class=\"wandb-row\"><div class=\"wandb-col\"><h3>Run history:</h3><br/><table class=\"wandb\"><tr><td>loss</td><td>▆▆▆▄▇▃▅▅▅▇▆▃▆█▂▃▅▄▄▅▂▂▄▂▅▃▄▂▂▂▂▃▃▄▁▂▃▂▄▃</td></tr><tr><td>lr</td><td>▁▁▁▁▁▁▁▁▁▁▁▁▁▁▁▁▁▁▁▁▁▁▁▁▁▁▁▁▁▁▁▁▁▁▁▁▁▁▁▁</td></tr></table><br/></div><div class=\"wandb-col\"><h3>Run summary:</h3><br/><table class=\"wandb\"><tr><td>loss</td><td>0.85077</td></tr><tr><td>lr</td><td>0.00776</td></tr></table><br/></div></div>"
      ],
      "text/plain": [
       "<IPython.core.display.HTML object>"
      ]
     },
     "metadata": {},
     "output_type": "display_data"
    },
    {
     "data": {
      "text/html": [
       " View run <strong style=\"color:#cdcd00\">avid-sweep-7</strong> at: <a href='https://wandb.ai/stupid-moewe/uncategorized/runs/4uj09z5f' target=\"_blank\">https://wandb.ai/stupid-moewe/uncategorized/runs/4uj09z5f</a><br/> View project at: <a href='https://wandb.ai/stupid-moewe/uncategorized' target=\"_blank\">https://wandb.ai/stupid-moewe/uncategorized</a><br/>Synced 6 W&B file(s), 0 media file(s), 0 artifact file(s) and 0 other file(s)"
      ],
      "text/plain": [
       "<IPython.core.display.HTML object>"
      ]
     },
     "metadata": {},
     "output_type": "display_data"
    },
    {
     "data": {
      "text/html": [
       "Find logs at: <code>./wandb/run-20240531_220608-4uj09z5f/logs</code>"
      ],
      "text/plain": [
       "<IPython.core.display.HTML object>"
      ]
     },
     "metadata": {},
     "output_type": "display_data"
    },
    {
     "name": "stderr",
     "output_type": "stream",
     "text": [
      "\u001b[34m\u001b[1mwandb\u001b[0m: Agent Starting Run: 1dlcy5fh with config:\n",
      "\u001b[34m\u001b[1mwandb\u001b[0m: \tlearning_rate: 0.02954048599688555\n",
      "\u001b[34m\u001b[1mwandb\u001b[0m: \toptimizer: adam\n"
     ]
    },
    {
     "data": {
      "text/html": [
       "Tracking run with wandb version 0.17.0"
      ],
      "text/plain": [
       "<IPython.core.display.HTML object>"
      ]
     },
     "metadata": {},
     "output_type": "display_data"
    },
    {
     "data": {
      "text/html": [
       "Run data is saved locally in <code>/Users/teframartin/EPFL_Cours/MA4/OptiMlForever/wandb/run-20240531_220746-1dlcy5fh</code>"
      ],
      "text/plain": [
       "<IPython.core.display.HTML object>"
      ]
     },
     "metadata": {},
     "output_type": "display_data"
    },
    {
     "data": {
      "text/html": [
       "Syncing run <strong><a href='https://wandb.ai/stupid-moewe/uncategorized/runs/1dlcy5fh' target=\"_blank\">helpful-sweep-8</a></strong> to <a href='https://wandb.ai/stupid-moewe/uncategorized' target=\"_blank\">Weights & Biases</a> (<a href='https://wandb.me/run' target=\"_blank\">docs</a>)<br/>Sweep page: <a href='https://wandb.ai/stupid-moewe/uncategorized/sweeps/htvx96h1' target=\"_blank\">https://wandb.ai/stupid-moewe/uncategorized/sweeps/htvx96h1</a>"
      ],
      "text/plain": [
       "<IPython.core.display.HTML object>"
      ]
     },
     "metadata": {},
     "output_type": "display_data"
    },
    {
     "data": {
      "text/html": [
       " View project at <a href='https://wandb.ai/stupid-moewe/uncategorized' target=\"_blank\">https://wandb.ai/stupid-moewe/uncategorized</a>"
      ],
      "text/plain": [
       "<IPython.core.display.HTML object>"
      ]
     },
     "metadata": {},
     "output_type": "display_data"
    },
    {
     "data": {
      "text/html": [
       " View sweep at <a href='https://wandb.ai/stupid-moewe/uncategorized/sweeps/htvx96h1' target=\"_blank\">https://wandb.ai/stupid-moewe/uncategorized/sweeps/htvx96h1</a>"
      ],
      "text/plain": [
       "<IPython.core.display.HTML object>"
      ]
     },
     "metadata": {},
     "output_type": "display_data"
    },
    {
     "data": {
      "text/html": [
       " View run at <a href='https://wandb.ai/stupid-moewe/uncategorized/runs/1dlcy5fh' target=\"_blank\">https://wandb.ai/stupid-moewe/uncategorized/runs/1dlcy5fh</a>"
      ],
      "text/plain": [
       "<IPython.core.display.HTML object>"
      ]
     },
     "metadata": {},
     "output_type": "display_data"
    },
    {
     "name": "stdout",
     "output_type": "stream",
     "text": [
      "[1,  2000] loss: 2.324\n",
      "[1,  4000] loss: 2.314\n",
      "[1,  6000] loss: 2.312\n",
      "[1,  8000] loss: 2.313\n",
      "[1, 10000] loss: 2.313\n",
      "[1, 12000] loss: 2.313\n",
      "[2,  2000] loss: 2.315\n",
      "[2,  4000] loss: 2.314\n",
      "[2,  6000] loss: 2.314\n",
      "[2,  8000] loss: 2.314\n",
      "[2, 10000] loss: 2.313\n",
      "[2, 12000] loss: 2.314\n",
      "Finished Training\n"
     ]
    },
    {
     "data": {
      "text/html": [
       "<style>\n",
       "    table.wandb td:nth-child(1) { padding: 0 10px; text-align: left ; width: auto;} td:nth-child(2) {text-align: left ; width: 100%}\n",
       "    .wandb-row { display: flex; flex-direction: row; flex-wrap: wrap; justify-content: flex-start; width: 100% }\n",
       "    .wandb-col { display: flex; flex-direction: column; flex-basis: 100%; flex: 1; padding: 10px; }\n",
       "    </style>\n",
       "<div class=\"wandb-row\"><div class=\"wandb-col\"><h3>Run history:</h3><br/><table class=\"wandb\"><tr><td>loss</td><td>▃▅▃█▂▂▆▃▅▂▅▄▂▃▁▆▃▆▃▅▄▆▄▇▅▃▁▄▃▃▂▅▄▅▃▄▃▆▃▂</td></tr><tr><td>lr</td><td>▁▁▁▁▁▁▁▁▁▁▁▁▁▁▁▁▁▁▁▁▁▁▁▁▁▁▁▁▁▁▁▁▁▁▁▁▁▁▁▁</td></tr></table><br/></div><div class=\"wandb-col\"><h3>Run summary:</h3><br/><table class=\"wandb\"><tr><td>loss</td><td>2.25495</td></tr><tr><td>lr</td><td>0.02954</td></tr></table><br/></div></div>"
      ],
      "text/plain": [
       "<IPython.core.display.HTML object>"
      ]
     },
     "metadata": {},
     "output_type": "display_data"
    },
    {
     "data": {
      "text/html": [
       " View run <strong style=\"color:#cdcd00\">helpful-sweep-8</strong> at: <a href='https://wandb.ai/stupid-moewe/uncategorized/runs/1dlcy5fh' target=\"_blank\">https://wandb.ai/stupid-moewe/uncategorized/runs/1dlcy5fh</a><br/> View project at: <a href='https://wandb.ai/stupid-moewe/uncategorized' target=\"_blank\">https://wandb.ai/stupid-moewe/uncategorized</a><br/>Synced 6 W&B file(s), 0 media file(s), 0 artifact file(s) and 0 other file(s)"
      ],
      "text/plain": [
       "<IPython.core.display.HTML object>"
      ]
     },
     "metadata": {},
     "output_type": "display_data"
    },
    {
     "data": {
      "text/html": [
       "Find logs at: <code>./wandb/run-20240531_220746-1dlcy5fh/logs</code>"
      ],
      "text/plain": [
       "<IPython.core.display.HTML object>"
      ]
     },
     "metadata": {},
     "output_type": "display_data"
    },
    {
     "name": "stderr",
     "output_type": "stream",
     "text": [
      "\u001b[34m\u001b[1mwandb\u001b[0m: Agent Starting Run: fwv9j55d with config:\n",
      "\u001b[34m\u001b[1mwandb\u001b[0m: \tlearning_rate: 0.05105494487752061\n",
      "\u001b[34m\u001b[1mwandb\u001b[0m: \toptimizer: adam\n"
     ]
    },
    {
     "data": {
      "text/html": [
       "Tracking run with wandb version 0.17.0"
      ],
      "text/plain": [
       "<IPython.core.display.HTML object>"
      ]
     },
     "metadata": {},
     "output_type": "display_data"
    },
    {
     "data": {
      "text/html": [
       "Run data is saved locally in <code>/Users/teframartin/EPFL_Cours/MA4/OptiMlForever/wandb/run-20240531_220936-fwv9j55d</code>"
      ],
      "text/plain": [
       "<IPython.core.display.HTML object>"
      ]
     },
     "metadata": {},
     "output_type": "display_data"
    },
    {
     "data": {
      "text/html": [
       "Syncing run <strong><a href='https://wandb.ai/stupid-moewe/uncategorized/runs/fwv9j55d' target=\"_blank\">pretty-sweep-9</a></strong> to <a href='https://wandb.ai/stupid-moewe/uncategorized' target=\"_blank\">Weights & Biases</a> (<a href='https://wandb.me/run' target=\"_blank\">docs</a>)<br/>Sweep page: <a href='https://wandb.ai/stupid-moewe/uncategorized/sweeps/htvx96h1' target=\"_blank\">https://wandb.ai/stupid-moewe/uncategorized/sweeps/htvx96h1</a>"
      ],
      "text/plain": [
       "<IPython.core.display.HTML object>"
      ]
     },
     "metadata": {},
     "output_type": "display_data"
    },
    {
     "data": {
      "text/html": [
       " View project at <a href='https://wandb.ai/stupid-moewe/uncategorized' target=\"_blank\">https://wandb.ai/stupid-moewe/uncategorized</a>"
      ],
      "text/plain": [
       "<IPython.core.display.HTML object>"
      ]
     },
     "metadata": {},
     "output_type": "display_data"
    },
    {
     "data": {
      "text/html": [
       " View sweep at <a href='https://wandb.ai/stupid-moewe/uncategorized/sweeps/htvx96h1' target=\"_blank\">https://wandb.ai/stupid-moewe/uncategorized/sweeps/htvx96h1</a>"
      ],
      "text/plain": [
       "<IPython.core.display.HTML object>"
      ]
     },
     "metadata": {},
     "output_type": "display_data"
    },
    {
     "data": {
      "text/html": [
       " View run at <a href='https://wandb.ai/stupid-moewe/uncategorized/runs/fwv9j55d' target=\"_blank\">https://wandb.ai/stupid-moewe/uncategorized/runs/fwv9j55d</a>"
      ],
      "text/plain": [
       "<IPython.core.display.HTML object>"
      ]
     },
     "metadata": {},
     "output_type": "display_data"
    },
    {
     "name": "stdout",
     "output_type": "stream",
     "text": [
      "[1,  2000] loss: 2.346\n",
      "[1,  4000] loss: 2.322\n",
      "[1,  6000] loss: 2.320\n"
     ]
    },
    {
     "name": "stderr",
     "output_type": "stream",
     "text": [
      "\u001b[34m\u001b[1mwandb\u001b[0m: Ctrl + C detected. Stopping sweep.\n"
     ]
    },
    {
     "name": "stdout",
     "output_type": "stream",
     "text": [
      "Error in callback <bound method _WandbInit._pause_backend of <wandb.sdk.wandb_init._WandbInit object at 0x14c8b1540>> (for post_run_cell), with arguments args (<ExecutionResult object at 14c8b1b10, execution_count=10 error_before_exec=None error_in_exec=None info=<ExecutionInfo object at 14c8b1a20, raw_cell=\"sweep_id = wandb.sweep(sweep_config)\n",
      "\n",
      "def sweep_tr..\" store_history=True silent=False shell_futures=True cell_id=vscode-notebook-cell:/Users/teframartin/EPFL_Cours/MA4/OptiMlForever/index-test.ipynb#X21sZmlsZQ%3D%3D> result=None>,),kwargs {}:\n"
     ]
    },
    {
     "ename": "BrokenPipeError",
     "evalue": "[Errno 32] Broken pipe",
     "output_type": "error",
     "traceback": [
      "\u001b[0;31m---------------------------------------------------------------------------\u001b[0m",
      "\u001b[0;31mBrokenPipeError\u001b[0m                           Traceback (most recent call last)",
      "File \u001b[0;32m~/EPFL_Cours/MA4/OptiMlForever/.conda/lib/python3.10/site-packages/wandb/sdk/wandb_init.py:432\u001b[0m, in \u001b[0;36m_WandbInit._pause_backend\u001b[0;34m(self, *args, **kwargs)\u001b[0m\n\u001b[1;32m    430\u001b[0m \u001b[38;5;28;01mif\u001b[39;00m \u001b[38;5;28mself\u001b[39m\u001b[38;5;241m.\u001b[39mbackend\u001b[38;5;241m.\u001b[39minterface \u001b[38;5;129;01mis\u001b[39;00m \u001b[38;5;129;01mnot\u001b[39;00m \u001b[38;5;28;01mNone\u001b[39;00m:\n\u001b[1;32m    431\u001b[0m     logger\u001b[38;5;241m.\u001b[39minfo(\u001b[38;5;124m\"\u001b[39m\u001b[38;5;124mpausing backend\u001b[39m\u001b[38;5;124m\"\u001b[39m)  \u001b[38;5;66;03m# type: ignore\u001b[39;00m\n\u001b[0;32m--> 432\u001b[0m     \u001b[38;5;28;43mself\u001b[39;49m\u001b[38;5;241;43m.\u001b[39;49m\u001b[43mbackend\u001b[49m\u001b[38;5;241;43m.\u001b[39;49m\u001b[43minterface\u001b[49m\u001b[38;5;241;43m.\u001b[39;49m\u001b[43mpublish_pause\u001b[49m\u001b[43m(\u001b[49m\u001b[43m)\u001b[49m\n",
      "File \u001b[0;32m~/EPFL_Cours/MA4/OptiMlForever/.conda/lib/python3.10/site-packages/wandb/sdk/interface/interface.py:698\u001b[0m, in \u001b[0;36mInterfaceBase.publish_pause\u001b[0;34m(self)\u001b[0m\n\u001b[1;32m    696\u001b[0m \u001b[38;5;28;01mdef\u001b[39;00m \u001b[38;5;21mpublish_pause\u001b[39m(\u001b[38;5;28mself\u001b[39m) \u001b[38;5;241m-\u001b[39m\u001b[38;5;241m>\u001b[39m \u001b[38;5;28;01mNone\u001b[39;00m:\n\u001b[1;32m    697\u001b[0m     pause \u001b[38;5;241m=\u001b[39m pb\u001b[38;5;241m.\u001b[39mPauseRequest()\n\u001b[0;32m--> 698\u001b[0m     \u001b[38;5;28;43mself\u001b[39;49m\u001b[38;5;241;43m.\u001b[39;49m\u001b[43m_publish_pause\u001b[49m\u001b[43m(\u001b[49m\u001b[43mpause\u001b[49m\u001b[43m)\u001b[49m\n",
      "File \u001b[0;32m~/EPFL_Cours/MA4/OptiMlForever/.conda/lib/python3.10/site-packages/wandb/sdk/interface/interface_shared.py:359\u001b[0m, in \u001b[0;36mInterfaceShared._publish_pause\u001b[0;34m(self, pause)\u001b[0m\n\u001b[1;32m    357\u001b[0m \u001b[38;5;28;01mdef\u001b[39;00m \u001b[38;5;21m_publish_pause\u001b[39m(\u001b[38;5;28mself\u001b[39m, pause: pb\u001b[38;5;241m.\u001b[39mPauseRequest) \u001b[38;5;241m-\u001b[39m\u001b[38;5;241m>\u001b[39m \u001b[38;5;28;01mNone\u001b[39;00m:\n\u001b[1;32m    358\u001b[0m     rec \u001b[38;5;241m=\u001b[39m \u001b[38;5;28mself\u001b[39m\u001b[38;5;241m.\u001b[39m_make_request(pause\u001b[38;5;241m=\u001b[39mpause)\n\u001b[0;32m--> 359\u001b[0m     \u001b[38;5;28;43mself\u001b[39;49m\u001b[38;5;241;43m.\u001b[39;49m\u001b[43m_publish\u001b[49m\u001b[43m(\u001b[49m\u001b[43mrec\u001b[49m\u001b[43m)\u001b[49m\n",
      "File \u001b[0;32m~/EPFL_Cours/MA4/OptiMlForever/.conda/lib/python3.10/site-packages/wandb/sdk/interface/interface_sock.py:51\u001b[0m, in \u001b[0;36mInterfaceSock._publish\u001b[0;34m(self, record, local)\u001b[0m\n\u001b[1;32m     49\u001b[0m \u001b[38;5;28;01mdef\u001b[39;00m \u001b[38;5;21m_publish\u001b[39m(\u001b[38;5;28mself\u001b[39m, record: \u001b[38;5;124m\"\u001b[39m\u001b[38;5;124mpb.Record\u001b[39m\u001b[38;5;124m\"\u001b[39m, local: Optional[\u001b[38;5;28mbool\u001b[39m] \u001b[38;5;241m=\u001b[39m \u001b[38;5;28;01mNone\u001b[39;00m) \u001b[38;5;241m-\u001b[39m\u001b[38;5;241m>\u001b[39m \u001b[38;5;28;01mNone\u001b[39;00m:\n\u001b[1;32m     50\u001b[0m     \u001b[38;5;28mself\u001b[39m\u001b[38;5;241m.\u001b[39m_assign(record)\n\u001b[0;32m---> 51\u001b[0m     \u001b[38;5;28;43mself\u001b[39;49m\u001b[38;5;241;43m.\u001b[39;49m\u001b[43m_sock_client\u001b[49m\u001b[38;5;241;43m.\u001b[39;49m\u001b[43msend_record_publish\u001b[49m\u001b[43m(\u001b[49m\u001b[43mrecord\u001b[49m\u001b[43m)\u001b[49m\n",
      "File \u001b[0;32m~/EPFL_Cours/MA4/OptiMlForever/.conda/lib/python3.10/site-packages/wandb/sdk/lib/sock_client.py:221\u001b[0m, in \u001b[0;36mSockClient.send_record_publish\u001b[0;34m(self, record)\u001b[0m\n\u001b[1;32m    219\u001b[0m server_req \u001b[38;5;241m=\u001b[39m spb\u001b[38;5;241m.\u001b[39mServerRequest()\n\u001b[1;32m    220\u001b[0m server_req\u001b[38;5;241m.\u001b[39mrecord_publish\u001b[38;5;241m.\u001b[39mCopyFrom(record)\n\u001b[0;32m--> 221\u001b[0m \u001b[38;5;28;43mself\u001b[39;49m\u001b[38;5;241;43m.\u001b[39;49m\u001b[43msend_server_request\u001b[49m\u001b[43m(\u001b[49m\u001b[43mserver_req\u001b[49m\u001b[43m)\u001b[49m\n",
      "File \u001b[0;32m~/EPFL_Cours/MA4/OptiMlForever/.conda/lib/python3.10/site-packages/wandb/sdk/lib/sock_client.py:155\u001b[0m, in \u001b[0;36mSockClient.send_server_request\u001b[0;34m(self, msg)\u001b[0m\n\u001b[1;32m    154\u001b[0m \u001b[38;5;28;01mdef\u001b[39;00m \u001b[38;5;21msend_server_request\u001b[39m(\u001b[38;5;28mself\u001b[39m, msg: Any) \u001b[38;5;241m-\u001b[39m\u001b[38;5;241m>\u001b[39m \u001b[38;5;28;01mNone\u001b[39;00m:\n\u001b[0;32m--> 155\u001b[0m     \u001b[38;5;28;43mself\u001b[39;49m\u001b[38;5;241;43m.\u001b[39;49m\u001b[43m_send_message\u001b[49m\u001b[43m(\u001b[49m\u001b[43mmsg\u001b[49m\u001b[43m)\u001b[49m\n",
      "File \u001b[0;32m~/EPFL_Cours/MA4/OptiMlForever/.conda/lib/python3.10/site-packages/wandb/sdk/lib/sock_client.py:152\u001b[0m, in \u001b[0;36mSockClient._send_message\u001b[0;34m(self, msg)\u001b[0m\n\u001b[1;32m    150\u001b[0m header \u001b[38;5;241m=\u001b[39m struct\u001b[38;5;241m.\u001b[39mpack(\u001b[38;5;124m\"\u001b[39m\u001b[38;5;124m<BI\u001b[39m\u001b[38;5;124m\"\u001b[39m, \u001b[38;5;28mord\u001b[39m(\u001b[38;5;124m\"\u001b[39m\u001b[38;5;124mW\u001b[39m\u001b[38;5;124m\"\u001b[39m), raw_size)\n\u001b[1;32m    151\u001b[0m \u001b[38;5;28;01mwith\u001b[39;00m \u001b[38;5;28mself\u001b[39m\u001b[38;5;241m.\u001b[39m_lock:\n\u001b[0;32m--> 152\u001b[0m     \u001b[38;5;28;43mself\u001b[39;49m\u001b[38;5;241;43m.\u001b[39;49m\u001b[43m_sendall_with_error_handle\u001b[49m\u001b[43m(\u001b[49m\u001b[43mheader\u001b[49m\u001b[43m \u001b[49m\u001b[38;5;241;43m+\u001b[39;49m\u001b[43m \u001b[49m\u001b[43mdata\u001b[49m\u001b[43m)\u001b[49m\n",
      "File \u001b[0;32m~/EPFL_Cours/MA4/OptiMlForever/.conda/lib/python3.10/site-packages/wandb/sdk/lib/sock_client.py:130\u001b[0m, in \u001b[0;36mSockClient._sendall_with_error_handle\u001b[0;34m(self, data)\u001b[0m\n\u001b[1;32m    128\u001b[0m start_time \u001b[38;5;241m=\u001b[39m time\u001b[38;5;241m.\u001b[39mmonotonic()\n\u001b[1;32m    129\u001b[0m \u001b[38;5;28;01mtry\u001b[39;00m:\n\u001b[0;32m--> 130\u001b[0m     sent \u001b[38;5;241m=\u001b[39m \u001b[38;5;28;43mself\u001b[39;49m\u001b[38;5;241;43m.\u001b[39;49m\u001b[43m_sock\u001b[49m\u001b[38;5;241;43m.\u001b[39;49m\u001b[43msend\u001b[49m\u001b[43m(\u001b[49m\u001b[43mdata\u001b[49m\u001b[43m)\u001b[49m\n\u001b[1;32m    131\u001b[0m     \u001b[38;5;66;03m# sent equal to 0 indicates a closed socket\u001b[39;00m\n\u001b[1;32m    132\u001b[0m     \u001b[38;5;28;01mif\u001b[39;00m sent \u001b[38;5;241m==\u001b[39m \u001b[38;5;241m0\u001b[39m:\n",
      "\u001b[0;31mBrokenPipeError\u001b[0m: [Errno 32] Broken pipe"
     ]
    }
   ],
   "source": [
    "sweep_id = wandb.sweep(sweep_config)\n",
    "\n",
    "def sweep_train():\n",
    "    with wandb.init():\n",
    "        config = wandb.config\n",
    "        trainloader = torch.utils.data.DataLoader(trainset, batch_size=batch_size,\n",
    "                                          shuffle=True, num_workers=2)\n",
    "        criterion = nn.CrossEntropyLoss()\n",
    "        train_with_optimizer(config.optimizer, trainloader, layer_wise=False, device='cpu')\n",
    "\n",
    "wandb.agent(sweep_id, function=sweep_train)"
   ]
  },
  {
   "cell_type": "markdown",
   "metadata": {},
   "source": [
    "### SGD"
   ]
  },
  {
   "cell_type": "code",
   "execution_count": null,
   "metadata": {},
   "outputs": [],
   "source": [
    "def train_with_optimizer(optimizer_name, trainloader, layer_wise=False, device='cpu', lr=0.001):\n",
    "    net = Net().to(device)\n",
    "    net.train()\n",
    "\n",
    "    if optimizer_name == \"sgd\":\n",
    "        optimizer = optim.SGD\n",
    "    elif optimizer_name == \"adam\":\n",
    "        optimizer = optim.Adam\n",
    "    elif optimizer_name == \"adagrad\":\n",
    "        optimizer = optim.Adagrad\n",
    "    else:\n",
    "        raise ValueError(f\"Unknown optimizer: {optimizer_name}\")\n",
    "\n",
    "    if layer_wise:\n",
    "        optimizer = optimizer([\n",
    "            {'params': net.conv1.parameters()},\n",
    "            {'params': net.conv2.parameters()},\n",
    "            {'params': net.fc1.parameters()},\n",
    "            {'params': net.fc2.parameters()},\n",
    "            {'params': net.fc3.parameters()}\n",
    "        ], lr=lr)\n",
    "    else:\n",
    "        optimizer = optimizer(net.parameters(), lr=lr)\n",
    "\n",
    "    losses = train(net, trainloader, criterion, optimizer, device=device)\n",
    "    return net, losses"
   ]
  },
  {
   "cell_type": "code",
   "execution_count": null,
   "metadata": {},
   "outputs": [],
   "source": [
    "adagrad_lrs= [0.0897,0.07988 ]\n",
    "sgd_lrs = [0.04598, 0.09334]\n",
    "adam_lrs = [0.00177, 0.04835]"
   ]
  },
  {
   "cell_type": "code",
   "execution_count": 8,
   "metadata": {},
   "outputs": [
    {
     "name": "stdout",
     "output_type": "stream",
     "text": [
      "[1,  2000] loss: 2.303\n",
      "[1,  4000] loss: 2.298\n",
      "[1,  6000] loss: 2.289\n",
      "[1,  8000] loss: 2.262\n",
      "[1, 10000] loss: 2.190\n",
      "[1, 12000] loss: 2.118\n",
      "[2,  2000] loss: 2.028\n",
      "[2,  4000] loss: 1.972\n",
      "[2,  6000] loss: 1.903\n",
      "[2,  8000] loss: 1.865\n",
      "[2, 10000] loss: 1.803\n",
      "[2, 12000] loss: 1.745\n",
      "Finished Training\n",
      "[1,  2000] loss: 2.304\n",
      "[1,  4000] loss: 2.302\n",
      "[1,  6000] loss: 2.301\n",
      "[1,  8000] loss: 2.299\n",
      "[1, 10000] loss: 2.294\n",
      "[1, 12000] loss: 2.288\n",
      "[2,  2000] loss: 2.255\n",
      "[2,  4000] loss: 2.137\n",
      "[2,  6000] loss: 1.993\n",
      "[2,  8000] loss: 1.930\n",
      "[2, 10000] loss: 1.874\n",
      "[2, 12000] loss: 1.818\n",
      "Finished Training\n",
      "[1,  2000] loss: 1.855\n",
      "[1,  4000] loss: 1.621\n",
      "[1,  6000] loss: 1.519\n",
      "[1,  8000] loss: 1.483\n",
      "[1, 10000] loss: 1.437\n",
      "[1, 12000] loss: 1.416\n",
      "[2,  2000] loss: 1.342\n",
      "[2,  4000] loss: 1.314\n",
      "[2,  6000] loss: 1.319\n",
      "[2,  8000] loss: 1.303\n",
      "[2, 10000] loss: 1.268\n",
      "[2, 12000] loss: 1.262\n",
      "Finished Training\n",
      "[1,  2000] loss: 1.816\n",
      "[1,  4000] loss: 1.594\n",
      "[1,  6000] loss: 1.510\n",
      "[1,  8000] loss: 1.450\n",
      "[1, 10000] loss: 1.429\n",
      "[1, 12000] loss: 1.368\n",
      "[2,  2000] loss: 1.325\n",
      "[2,  4000] loss: 1.293\n",
      "[2,  6000] loss: 1.273\n",
      "[2,  8000] loss: 1.281\n",
      "[2, 10000] loss: 1.257\n",
      "[2, 12000] loss: 1.247\n",
      "Finished Training\n",
      "[1,  2000] loss: 2.100\n",
      "[1,  4000] loss: 1.992\n",
      "[1,  6000] loss: 1.960\n",
      "[1,  8000] loss: 1.940\n",
      "[1, 10000] loss: 1.915\n",
      "[1, 12000] loss: 1.922\n",
      "[2,  2000] loss: 1.889\n",
      "[2,  4000] loss: 1.864\n",
      "[2,  6000] loss: 1.860\n",
      "[2,  8000] loss: 1.856\n",
      "[2, 10000] loss: 1.833\n",
      "[2, 12000] loss: 1.857\n",
      "Finished Training\n",
      "[1,  2000] loss: 2.139\n",
      "[1,  4000] loss: 1.994\n",
      "[1,  6000] loss: 1.928\n",
      "[1,  8000] loss: 1.908\n",
      "[1, 10000] loss: 1.863\n",
      "[1, 12000] loss: 1.850\n",
      "[2,  2000] loss: 1.834\n",
      "[2,  4000] loss: 1.813\n",
      "[2,  6000] loss: 1.822\n",
      "[2,  8000] loss: 1.810\n",
      "[2, 10000] loss: 1.794\n",
      "[2, 12000] loss: 1.774\n",
      "Finished Training\n"
     ]
    }
   ],
   "source": [
    "# SGD\n",
    "net_sgd, losses_sgd = train_with_optimizer(optim.SGD, trainloader, device=device, lr=0.001)\n",
    "net_sgd_lw, losses_sgd_lw = train_with_optimizer(optim.SGD, trainloader, layer_wise=True, device=device, lr=0.001)\n",
    "\n",
    "# Adam\n",
    "net_adam, losses_adam = train_with_optimizer(optim.Adam, trainloader, device=device, lr=0.001)\n",
    "net_adam_lw, losses_adam_lw = train_with_optimizer(optim.Adam, trainloader, layer_wise=True, device=device, lr=0.001)\n",
    "\n",
    "# AdaGrad\n",
    "net_adagrad, losses_adagrad = train_with_optimizer(optim.Adagrad, trainloader, device=device, lr=0.001)\n",
    "net_adagrad_lw, losses_adagrad_lw = train_with_optimizer(optim.Adagrad, trainloader, layer_wise=True, device=device, lr=0.001)"
   ]
  },
  {
   "cell_type": "code",
   "execution_count": 9,
   "metadata": {},
   "outputs": [
    {
     "data": {
      "image/png": "[encoded data removed]",
      "text/plain": [
       "<Figure size 640x480 with 1 Axes>"
      ]
     },
     "metadata": {},
     "output_type": "display_data"
    }
   ],
   "source": [
    "moving_average_sgd = np.convolve(losses_sgd, np.ones(1000)/1000, mode='valid')\n",
    "moving_average_sgd_lw = np.convolve(losses_sgd_lw, np.ones(1000)/1000, mode='valid')\n",
    "moving_average_adam = np.convolve(losses_adam, np.ones(1000)/1000, mode='valid')\n",
    "moving_average_adam_lw = np.convolve(losses_adam_lw, np.ones(1000)/1000, mode='valid')\n",
    "moving_average_adagrad = np.convolve(losses_adagrad, np.ones(1000)/1000, mode='valid')\n",
    "moving_average_adagrad_lw = np.convolve(losses_adagrad_lw, np.ones(1000)/1000, mode='valid')\n",
    "\n",
    "plt.plot(moving_average_sgd, label='SGD')\n",
    "plt.plot(moving_average_sgd_lw, label='SGD Layer-wise')\n",
    "plt.plot(moving_average_adam, label='Adam')\n",
    "plt.plot(moving_average_adam_lw, label='Adam Layer-wise')\n",
    "plt.plot(moving_average_adagrad, label='AdaGrad')\n",
    "plt.plot(moving_average_adagrad_lw, label='AdaGrad Layer-wise')\n",
    "plt.legend()\n",
    "plt.show()\n"
   ]
  },
  {
   "cell_type": "code",
   "execution_count": null,
   "metadata": {},
   "outputs": [],
   "source": []
  }
 ],
 "metadata": {
  "kernelspec": {
   "display_name": "Python 3",
   "language": "python",
   "name": "python3"
  },
  "language_info": {
   "codemirror_mode": {
    "name": "ipython",
    "version": 3
   },
   "file_extension": ".py",
   "mimetype": "text/x-python",
   "name": "python",
   "nbconvert_exporter": "python",
   "pygments_lexer": "ipython3",
   "version": "3.10.14"
  }
 },
 "nbformat": 4,
 "nbformat_minor": 2
}
